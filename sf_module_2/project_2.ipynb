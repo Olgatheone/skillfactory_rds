{
 "cells": [
  {
   "cell_type": "markdown",
   "metadata": {},
   "source": [
    "**Цель проекта - исследовать данные и подготовить к дальнейшему моделированию.**\n",
    "\n",
    "**Задача - создать модель, которая может предсказывать оценку ученика;** \n",
    "          **или, другими словами, отобрать параметры, которые могут влить на оценку ученика.**"
   ]
  },
  {
   "cell_type": "markdown",
   "metadata": {},
   "source": [
    "### Этап 1.\n",
    "**Первичная обработка и заполнение пропусков**"
   ]
  },
  {
   "cell_type": "code",
   "execution_count": 1,
   "metadata": {},
   "outputs": [],
   "source": [
    "import pandas as pd\n",
    "import numpy as np\n",
    "import matplotlib.pyplot as plt\n",
    "import seaborn as sns\n",
    "from itertools import combinations\n",
    "from scipy.stats import ttest_ind\n",
    "pd.set_option('display.max_rows', 50)  # показывать больше строк\n",
    "pd.set_option('display.max_columns', 50)  # показывать больше колонок\n",
    "stud_math = pd.read_csv('stud_math.csv')"
   ]
  },
  {
   "cell_type": "code",
   "execution_count": 2,
   "metadata": {
    "scrolled": true
   },
   "outputs": [
    {
     "data": {
      "text/html": [
       "<div>\n",
       "<style scoped>\n",
       "    .dataframe tbody tr th:only-of-type {\n",
       "        vertical-align: middle;\n",
       "    }\n",
       "\n",
       "    .dataframe tbody tr th {\n",
       "        vertical-align: top;\n",
       "    }\n",
       "\n",
       "    .dataframe thead th {\n",
       "        text-align: right;\n",
       "    }\n",
       "</style>\n",
       "<table border=\"1\" class=\"dataframe\">\n",
       "  <thead>\n",
       "    <tr style=\"text-align: right;\">\n",
       "      <th></th>\n",
       "      <th>school</th>\n",
       "      <th>sex</th>\n",
       "      <th>age</th>\n",
       "      <th>address</th>\n",
       "      <th>famsize</th>\n",
       "      <th>Pstatus</th>\n",
       "      <th>Medu</th>\n",
       "      <th>Fedu</th>\n",
       "      <th>Mjob</th>\n",
       "      <th>Fjob</th>\n",
       "      <th>reason</th>\n",
       "      <th>guardian</th>\n",
       "      <th>traveltime</th>\n",
       "      <th>studytime</th>\n",
       "      <th>failures</th>\n",
       "      <th>schoolsup</th>\n",
       "      <th>famsup</th>\n",
       "      <th>paid</th>\n",
       "      <th>activities</th>\n",
       "      <th>nursery</th>\n",
       "      <th>studytime, granular</th>\n",
       "      <th>higher</th>\n",
       "      <th>internet</th>\n",
       "      <th>romantic</th>\n",
       "      <th>famrel</th>\n",
       "      <th>freetime</th>\n",
       "      <th>goout</th>\n",
       "      <th>health</th>\n",
       "      <th>absences</th>\n",
       "      <th>score</th>\n",
       "    </tr>\n",
       "  </thead>\n",
       "  <tbody>\n",
       "    <tr>\n",
       "      <td>0</td>\n",
       "      <td>GP</td>\n",
       "      <td>F</td>\n",
       "      <td>18</td>\n",
       "      <td>U</td>\n",
       "      <td>NaN</td>\n",
       "      <td>A</td>\n",
       "      <td>4.0</td>\n",
       "      <td>4.0</td>\n",
       "      <td>at_home</td>\n",
       "      <td>teacher</td>\n",
       "      <td>course</td>\n",
       "      <td>mother</td>\n",
       "      <td>2.0</td>\n",
       "      <td>2.0</td>\n",
       "      <td>0.0</td>\n",
       "      <td>yes</td>\n",
       "      <td>no</td>\n",
       "      <td>no</td>\n",
       "      <td>no</td>\n",
       "      <td>yes</td>\n",
       "      <td>-6.0</td>\n",
       "      <td>yes</td>\n",
       "      <td>NaN</td>\n",
       "      <td>no</td>\n",
       "      <td>4.0</td>\n",
       "      <td>3.0</td>\n",
       "      <td>4.0</td>\n",
       "      <td>3.0</td>\n",
       "      <td>6.0</td>\n",
       "      <td>30.0</td>\n",
       "    </tr>\n",
       "    <tr>\n",
       "      <td>1</td>\n",
       "      <td>GP</td>\n",
       "      <td>F</td>\n",
       "      <td>17</td>\n",
       "      <td>U</td>\n",
       "      <td>GT3</td>\n",
       "      <td>NaN</td>\n",
       "      <td>1.0</td>\n",
       "      <td>1.0</td>\n",
       "      <td>at_home</td>\n",
       "      <td>other</td>\n",
       "      <td>course</td>\n",
       "      <td>father</td>\n",
       "      <td>1.0</td>\n",
       "      <td>2.0</td>\n",
       "      <td>0.0</td>\n",
       "      <td>no</td>\n",
       "      <td>yes</td>\n",
       "      <td>no</td>\n",
       "      <td>no</td>\n",
       "      <td>no</td>\n",
       "      <td>-6.0</td>\n",
       "      <td>yes</td>\n",
       "      <td>yes</td>\n",
       "      <td>no</td>\n",
       "      <td>5.0</td>\n",
       "      <td>3.0</td>\n",
       "      <td>3.0</td>\n",
       "      <td>3.0</td>\n",
       "      <td>4.0</td>\n",
       "      <td>30.0</td>\n",
       "    </tr>\n",
       "    <tr>\n",
       "      <td>2</td>\n",
       "      <td>GP</td>\n",
       "      <td>F</td>\n",
       "      <td>15</td>\n",
       "      <td>U</td>\n",
       "      <td>LE3</td>\n",
       "      <td>T</td>\n",
       "      <td>1.0</td>\n",
       "      <td>1.0</td>\n",
       "      <td>at_home</td>\n",
       "      <td>other</td>\n",
       "      <td>other</td>\n",
       "      <td>mother</td>\n",
       "      <td>1.0</td>\n",
       "      <td>2.0</td>\n",
       "      <td>3.0</td>\n",
       "      <td>yes</td>\n",
       "      <td>no</td>\n",
       "      <td>NaN</td>\n",
       "      <td>no</td>\n",
       "      <td>yes</td>\n",
       "      <td>-6.0</td>\n",
       "      <td>yes</td>\n",
       "      <td>yes</td>\n",
       "      <td>NaN</td>\n",
       "      <td>4.0</td>\n",
       "      <td>3.0</td>\n",
       "      <td>2.0</td>\n",
       "      <td>3.0</td>\n",
       "      <td>10.0</td>\n",
       "      <td>50.0</td>\n",
       "    </tr>\n",
       "    <tr>\n",
       "      <td>3</td>\n",
       "      <td>GP</td>\n",
       "      <td>F</td>\n",
       "      <td>15</td>\n",
       "      <td>U</td>\n",
       "      <td>GT3</td>\n",
       "      <td>T</td>\n",
       "      <td>4.0</td>\n",
       "      <td>2.0</td>\n",
       "      <td>health</td>\n",
       "      <td>NaN</td>\n",
       "      <td>home</td>\n",
       "      <td>mother</td>\n",
       "      <td>1.0</td>\n",
       "      <td>3.0</td>\n",
       "      <td>0.0</td>\n",
       "      <td>no</td>\n",
       "      <td>yes</td>\n",
       "      <td>yes</td>\n",
       "      <td>yes</td>\n",
       "      <td>yes</td>\n",
       "      <td>-9.0</td>\n",
       "      <td>yes</td>\n",
       "      <td>yes</td>\n",
       "      <td>yes</td>\n",
       "      <td>3.0</td>\n",
       "      <td>2.0</td>\n",
       "      <td>2.0</td>\n",
       "      <td>5.0</td>\n",
       "      <td>2.0</td>\n",
       "      <td>75.0</td>\n",
       "    </tr>\n",
       "    <tr>\n",
       "      <td>4</td>\n",
       "      <td>GP</td>\n",
       "      <td>F</td>\n",
       "      <td>16</td>\n",
       "      <td>U</td>\n",
       "      <td>GT3</td>\n",
       "      <td>T</td>\n",
       "      <td>3.0</td>\n",
       "      <td>3.0</td>\n",
       "      <td>other</td>\n",
       "      <td>other</td>\n",
       "      <td>home</td>\n",
       "      <td>father</td>\n",
       "      <td>1.0</td>\n",
       "      <td>2.0</td>\n",
       "      <td>0.0</td>\n",
       "      <td>no</td>\n",
       "      <td>yes</td>\n",
       "      <td>yes</td>\n",
       "      <td>no</td>\n",
       "      <td>yes</td>\n",
       "      <td>-6.0</td>\n",
       "      <td>yes</td>\n",
       "      <td>no</td>\n",
       "      <td>no</td>\n",
       "      <td>4.0</td>\n",
       "      <td>3.0</td>\n",
       "      <td>2.0</td>\n",
       "      <td>5.0</td>\n",
       "      <td>4.0</td>\n",
       "      <td>50.0</td>\n",
       "    </tr>\n",
       "    <tr>\n",
       "      <td>5</td>\n",
       "      <td>GP</td>\n",
       "      <td>M</td>\n",
       "      <td>16</td>\n",
       "      <td>U</td>\n",
       "      <td>LE3</td>\n",
       "      <td>T</td>\n",
       "      <td>4.0</td>\n",
       "      <td>3.0</td>\n",
       "      <td>services</td>\n",
       "      <td>other</td>\n",
       "      <td>reputation</td>\n",
       "      <td>mother</td>\n",
       "      <td>1.0</td>\n",
       "      <td>2.0</td>\n",
       "      <td>0.0</td>\n",
       "      <td>no</td>\n",
       "      <td>yes</td>\n",
       "      <td>yes</td>\n",
       "      <td>yes</td>\n",
       "      <td>yes</td>\n",
       "      <td>-6.0</td>\n",
       "      <td>yes</td>\n",
       "      <td>yes</td>\n",
       "      <td>no</td>\n",
       "      <td>5.0</td>\n",
       "      <td>4.0</td>\n",
       "      <td>2.0</td>\n",
       "      <td>5.0</td>\n",
       "      <td>10.0</td>\n",
       "      <td>75.0</td>\n",
       "    </tr>\n",
       "    <tr>\n",
       "      <td>6</td>\n",
       "      <td>GP</td>\n",
       "      <td>M</td>\n",
       "      <td>16</td>\n",
       "      <td>NaN</td>\n",
       "      <td>LE3</td>\n",
       "      <td>T</td>\n",
       "      <td>2.0</td>\n",
       "      <td>2.0</td>\n",
       "      <td>other</td>\n",
       "      <td>other</td>\n",
       "      <td>home</td>\n",
       "      <td>mother</td>\n",
       "      <td>1.0</td>\n",
       "      <td>2.0</td>\n",
       "      <td>0.0</td>\n",
       "      <td>no</td>\n",
       "      <td>no</td>\n",
       "      <td>no</td>\n",
       "      <td>no</td>\n",
       "      <td>yes</td>\n",
       "      <td>-6.0</td>\n",
       "      <td>yes</td>\n",
       "      <td>yes</td>\n",
       "      <td>no</td>\n",
       "      <td>4.0</td>\n",
       "      <td>4.0</td>\n",
       "      <td>4.0</td>\n",
       "      <td>3.0</td>\n",
       "      <td>0.0</td>\n",
       "      <td>55.0</td>\n",
       "    </tr>\n",
       "    <tr>\n",
       "      <td>7</td>\n",
       "      <td>GP</td>\n",
       "      <td>F</td>\n",
       "      <td>17</td>\n",
       "      <td>U</td>\n",
       "      <td>GT3</td>\n",
       "      <td>A</td>\n",
       "      <td>4.0</td>\n",
       "      <td>4.0</td>\n",
       "      <td>other</td>\n",
       "      <td>teacher</td>\n",
       "      <td>home</td>\n",
       "      <td>mother</td>\n",
       "      <td>2.0</td>\n",
       "      <td>2.0</td>\n",
       "      <td>0.0</td>\n",
       "      <td>yes</td>\n",
       "      <td>yes</td>\n",
       "      <td>no</td>\n",
       "      <td>no</td>\n",
       "      <td>yes</td>\n",
       "      <td>-6.0</td>\n",
       "      <td>yes</td>\n",
       "      <td>no</td>\n",
       "      <td>no</td>\n",
       "      <td>4.0</td>\n",
       "      <td>1.0</td>\n",
       "      <td>4.0</td>\n",
       "      <td>1.0</td>\n",
       "      <td>6.0</td>\n",
       "      <td>30.0</td>\n",
       "    </tr>\n",
       "    <tr>\n",
       "      <td>8</td>\n",
       "      <td>GP</td>\n",
       "      <td>M</td>\n",
       "      <td>15</td>\n",
       "      <td>U</td>\n",
       "      <td>LE3</td>\n",
       "      <td>A</td>\n",
       "      <td>3.0</td>\n",
       "      <td>2.0</td>\n",
       "      <td>services</td>\n",
       "      <td>other</td>\n",
       "      <td>home</td>\n",
       "      <td>mother</td>\n",
       "      <td>1.0</td>\n",
       "      <td>2.0</td>\n",
       "      <td>0.0</td>\n",
       "      <td>no</td>\n",
       "      <td>yes</td>\n",
       "      <td>yes</td>\n",
       "      <td>no</td>\n",
       "      <td>yes</td>\n",
       "      <td>-6.0</td>\n",
       "      <td>yes</td>\n",
       "      <td>yes</td>\n",
       "      <td>no</td>\n",
       "      <td>NaN</td>\n",
       "      <td>2.0</td>\n",
       "      <td>2.0</td>\n",
       "      <td>1.0</td>\n",
       "      <td>0.0</td>\n",
       "      <td>95.0</td>\n",
       "    </tr>\n",
       "    <tr>\n",
       "      <td>9</td>\n",
       "      <td>GP</td>\n",
       "      <td>M</td>\n",
       "      <td>15</td>\n",
       "      <td>U</td>\n",
       "      <td>NaN</td>\n",
       "      <td>NaN</td>\n",
       "      <td>3.0</td>\n",
       "      <td>4.0</td>\n",
       "      <td>other</td>\n",
       "      <td>other</td>\n",
       "      <td>home</td>\n",
       "      <td>mother</td>\n",
       "      <td>1.0</td>\n",
       "      <td>2.0</td>\n",
       "      <td>0.0</td>\n",
       "      <td>no</td>\n",
       "      <td>yes</td>\n",
       "      <td>yes</td>\n",
       "      <td>yes</td>\n",
       "      <td>yes</td>\n",
       "      <td>-6.0</td>\n",
       "      <td>yes</td>\n",
       "      <td>yes</td>\n",
       "      <td>no</td>\n",
       "      <td>5.0</td>\n",
       "      <td>5.0</td>\n",
       "      <td>1.0</td>\n",
       "      <td>5.0</td>\n",
       "      <td>0.0</td>\n",
       "      <td>75.0</td>\n",
       "    </tr>\n",
       "  </tbody>\n",
       "</table>\n",
       "</div>"
      ],
      "text/plain": [
       "  school sex  age address famsize Pstatus  Medu  Fedu      Mjob     Fjob  \\\n",
       "0     GP   F   18       U     NaN       A   4.0   4.0   at_home  teacher   \n",
       "1     GP   F   17       U     GT3     NaN   1.0   1.0   at_home    other   \n",
       "2     GP   F   15       U     LE3       T   1.0   1.0   at_home    other   \n",
       "3     GP   F   15       U     GT3       T   4.0   2.0    health      NaN   \n",
       "4     GP   F   16       U     GT3       T   3.0   3.0     other    other   \n",
       "5     GP   M   16       U     LE3       T   4.0   3.0  services    other   \n",
       "6     GP   M   16     NaN     LE3       T   2.0   2.0     other    other   \n",
       "7     GP   F   17       U     GT3       A   4.0   4.0     other  teacher   \n",
       "8     GP   M   15       U     LE3       A   3.0   2.0  services    other   \n",
       "9     GP   M   15       U     NaN     NaN   3.0   4.0     other    other   \n",
       "\n",
       "       reason guardian  traveltime  studytime  failures schoolsup famsup paid  \\\n",
       "0      course   mother         2.0        2.0       0.0       yes     no   no   \n",
       "1      course   father         1.0        2.0       0.0        no    yes   no   \n",
       "2       other   mother         1.0        2.0       3.0       yes     no  NaN   \n",
       "3        home   mother         1.0        3.0       0.0        no    yes  yes   \n",
       "4        home   father         1.0        2.0       0.0        no    yes  yes   \n",
       "5  reputation   mother         1.0        2.0       0.0        no    yes  yes   \n",
       "6        home   mother         1.0        2.0       0.0        no     no   no   \n",
       "7        home   mother         2.0        2.0       0.0       yes    yes   no   \n",
       "8        home   mother         1.0        2.0       0.0        no    yes  yes   \n",
       "9        home   mother         1.0        2.0       0.0        no    yes  yes   \n",
       "\n",
       "  activities nursery  studytime, granular higher internet romantic  famrel  \\\n",
       "0         no     yes                 -6.0    yes      NaN       no     4.0   \n",
       "1         no      no                 -6.0    yes      yes       no     5.0   \n",
       "2         no     yes                 -6.0    yes      yes      NaN     4.0   \n",
       "3        yes     yes                 -9.0    yes      yes      yes     3.0   \n",
       "4         no     yes                 -6.0    yes       no       no     4.0   \n",
       "5        yes     yes                 -6.0    yes      yes       no     5.0   \n",
       "6         no     yes                 -6.0    yes      yes       no     4.0   \n",
       "7         no     yes                 -6.0    yes       no       no     4.0   \n",
       "8         no     yes                 -6.0    yes      yes       no     NaN   \n",
       "9        yes     yes                 -6.0    yes      yes       no     5.0   \n",
       "\n",
       "   freetime  goout  health  absences  score  \n",
       "0       3.0    4.0     3.0       6.0   30.0  \n",
       "1       3.0    3.0     3.0       4.0   30.0  \n",
       "2       3.0    2.0     3.0      10.0   50.0  \n",
       "3       2.0    2.0     5.0       2.0   75.0  \n",
       "4       3.0    2.0     5.0       4.0   50.0  \n",
       "5       4.0    2.0     5.0      10.0   75.0  \n",
       "6       4.0    4.0     3.0       0.0   55.0  \n",
       "7       1.0    4.0     1.0       6.0   30.0  \n",
       "8       2.0    2.0     1.0       0.0   95.0  \n",
       "9       5.0    1.0     5.0       0.0   75.0  "
      ]
     },
     "metadata": {},
     "output_type": "display_data"
    }
   ],
   "source": [
    "display(stud_math.head(10))"
   ]
  },
  {
   "cell_type": "code",
   "execution_count": 3,
   "metadata": {},
   "outputs": [],
   "source": [
    "# Переименовали колонку с запятой\n",
    "stud_math.rename(\n",
    "    columns={'studytime, granular': 'studytime_granular'}, inplace=True)"
   ]
  },
  {
   "cell_type": "code",
   "execution_count": 4,
   "metadata": {},
   "outputs": [
    {
     "name": "stdout",
     "output_type": "stream",
     "text": [
      "<class 'pandas.core.frame.DataFrame'>\n",
      "RangeIndex: 395 entries, 0 to 394\n",
      "Data columns (total 30 columns):\n",
      "school                395 non-null object\n",
      "sex                   395 non-null object\n",
      "age                   395 non-null int64\n",
      "address               378 non-null object\n",
      "famsize               368 non-null object\n",
      "Pstatus               350 non-null object\n",
      "Medu                  392 non-null float64\n",
      "Fedu                  371 non-null float64\n",
      "Mjob                  376 non-null object\n",
      "Fjob                  359 non-null object\n",
      "reason                378 non-null object\n",
      "guardian              364 non-null object\n",
      "traveltime            367 non-null float64\n",
      "studytime             388 non-null float64\n",
      "failures              373 non-null float64\n",
      "schoolsup             386 non-null object\n",
      "famsup                356 non-null object\n",
      "paid                  355 non-null object\n",
      "activities            381 non-null object\n",
      "nursery               379 non-null object\n",
      "studytime_granular    388 non-null float64\n",
      "higher                375 non-null object\n",
      "internet              361 non-null object\n",
      "romantic              364 non-null object\n",
      "famrel                368 non-null float64\n",
      "freetime              384 non-null float64\n",
      "goout                 387 non-null float64\n",
      "health                380 non-null float64\n",
      "absences              383 non-null float64\n",
      "score                 389 non-null float64\n",
      "dtypes: float64(12), int64(1), object(17)\n",
      "memory usage: 92.7+ KB\n"
     ]
    }
   ],
   "source": [
    "# Видим: количество строк 395; 13 колонок числовых данных; 17 колонок категоиальных данных.\n",
    "stud_math.info()"
   ]
  },
  {
   "cell_type": "code",
   "execution_count": 5,
   "metadata": {},
   "outputs": [
    {
     "name": "stdout",
     "output_type": "stream",
     "text": [
      "school - 0 ; 0.0%\n",
      "sex - 0 ; 0.0%\n",
      "age - 0 ; 0.0%\n",
      "address - 17 ; 4.0%\n",
      "famsize - 27 ; 7.0%\n",
      "Pstatus - 45 ; 11.0%\n",
      "Medu - 3 ; 1.0%\n",
      "Fedu - 24 ; 6.0%\n",
      "Mjob - 19 ; 5.0%\n",
      "Fjob - 36 ; 9.0%\n",
      "reason - 17 ; 4.0%\n",
      "guardian - 31 ; 8.0%\n",
      "traveltime - 28 ; 7.0%\n",
      "studytime - 7 ; 2.0%\n",
      "failures - 22 ; 6.0%\n",
      "schoolsup - 9 ; 2.0%\n",
      "famsup - 39 ; 10.0%\n",
      "paid - 40 ; 10.0%\n",
      "activities - 14 ; 4.0%\n",
      "nursery - 16 ; 4.0%\n",
      "studytime_granular - 7 ; 2.0%\n",
      "higher - 20 ; 5.0%\n",
      "internet - 34 ; 9.0%\n",
      "romantic - 31 ; 8.0%\n",
      "famrel - 27 ; 7.0%\n",
      "freetime - 11 ; 3.0%\n",
      "goout - 8 ; 2.0%\n",
      "health - 15 ; 4.0%\n",
      "absences - 12 ; 3.0%\n",
      "score - 6 ; 2.0%\n"
     ]
    }
   ],
   "source": [
    "# Посчитали количество и процент пропусков в колонках\n",
    "for col in stud_math.columns:\n",
    "    nbr_missing = stud_math[col].isnull().sum()\n",
    "    pct_missing = np.mean(stud_math[col].isnull())\n",
    "    print('{} - {} ; {}%'.format(col, nbr_missing, round(pct_missing*100)))"
   ]
  },
  {
   "cell_type": "code",
   "execution_count": 6,
   "metadata": {},
   "outputs": [
    {
     "name": "stdout",
     "output_type": "stream",
     "text": [
      "Датасет содержит 27 колонок с пустыми значениями.\n"
     ]
    }
   ],
   "source": [
    "# Еще немного анализа\n",
    "print(\n",
    "    f'Датасет содержит {stud_math.isnull().any().sum()} колонок с пустыми значениями.')"
   ]
  },
  {
   "cell_type": "code",
   "execution_count": 7,
   "metadata": {},
   "outputs": [
    {
     "data": {
      "text/html": [
       "<div>\n",
       "<style scoped>\n",
       "    .dataframe tbody tr th:only-of-type {\n",
       "        vertical-align: middle;\n",
       "    }\n",
       "\n",
       "    .dataframe tbody tr th {\n",
       "        vertical-align: top;\n",
       "    }\n",
       "\n",
       "    .dataframe thead th {\n",
       "        text-align: right;\n",
       "    }\n",
       "</style>\n",
       "<table border=\"1\" class=\"dataframe\">\n",
       "  <thead>\n",
       "    <tr style=\"text-align: right;\">\n",
       "      <th></th>\n",
       "      <th>school</th>\n",
       "      <th>sex</th>\n",
       "      <th>address</th>\n",
       "      <th>famsize</th>\n",
       "      <th>Pstatus</th>\n",
       "      <th>Mjob</th>\n",
       "      <th>Fjob</th>\n",
       "      <th>reason</th>\n",
       "      <th>guardian</th>\n",
       "      <th>schoolsup</th>\n",
       "      <th>famsup</th>\n",
       "      <th>paid</th>\n",
       "      <th>activities</th>\n",
       "      <th>nursery</th>\n",
       "      <th>higher</th>\n",
       "      <th>internet</th>\n",
       "      <th>romantic</th>\n",
       "    </tr>\n",
       "  </thead>\n",
       "  <tbody>\n",
       "    <tr>\n",
       "      <td>count</td>\n",
       "      <td>395</td>\n",
       "      <td>395</td>\n",
       "      <td>378</td>\n",
       "      <td>368</td>\n",
       "      <td>350</td>\n",
       "      <td>376</td>\n",
       "      <td>359</td>\n",
       "      <td>378</td>\n",
       "      <td>364</td>\n",
       "      <td>386</td>\n",
       "      <td>356</td>\n",
       "      <td>355</td>\n",
       "      <td>381</td>\n",
       "      <td>379</td>\n",
       "      <td>375</td>\n",
       "      <td>361</td>\n",
       "      <td>364</td>\n",
       "    </tr>\n",
       "    <tr>\n",
       "      <td>unique</td>\n",
       "      <td>2</td>\n",
       "      <td>2</td>\n",
       "      <td>2</td>\n",
       "      <td>2</td>\n",
       "      <td>2</td>\n",
       "      <td>5</td>\n",
       "      <td>5</td>\n",
       "      <td>4</td>\n",
       "      <td>3</td>\n",
       "      <td>2</td>\n",
       "      <td>2</td>\n",
       "      <td>2</td>\n",
       "      <td>2</td>\n",
       "      <td>2</td>\n",
       "      <td>2</td>\n",
       "      <td>2</td>\n",
       "      <td>2</td>\n",
       "    </tr>\n",
       "    <tr>\n",
       "      <td>top</td>\n",
       "      <td>GP</td>\n",
       "      <td>F</td>\n",
       "      <td>U</td>\n",
       "      <td>GT3</td>\n",
       "      <td>T</td>\n",
       "      <td>other</td>\n",
       "      <td>other</td>\n",
       "      <td>course</td>\n",
       "      <td>mother</td>\n",
       "      <td>no</td>\n",
       "      <td>yes</td>\n",
       "      <td>no</td>\n",
       "      <td>yes</td>\n",
       "      <td>yes</td>\n",
       "      <td>yes</td>\n",
       "      <td>yes</td>\n",
       "      <td>no</td>\n",
       "    </tr>\n",
       "    <tr>\n",
       "      <td>freq</td>\n",
       "      <td>349</td>\n",
       "      <td>208</td>\n",
       "      <td>295</td>\n",
       "      <td>261</td>\n",
       "      <td>314</td>\n",
       "      <td>133</td>\n",
       "      <td>197</td>\n",
       "      <td>137</td>\n",
       "      <td>250</td>\n",
       "      <td>335</td>\n",
       "      <td>219</td>\n",
       "      <td>200</td>\n",
       "      <td>195</td>\n",
       "      <td>300</td>\n",
       "      <td>356</td>\n",
       "      <td>305</td>\n",
       "      <td>240</td>\n",
       "    </tr>\n",
       "  </tbody>\n",
       "</table>\n",
       "</div>"
      ],
      "text/plain": [
       "       school  sex address famsize Pstatus   Mjob   Fjob  reason guardian  \\\n",
       "count     395  395     378     368     350    376    359     378      364   \n",
       "unique      2    2       2       2       2      5      5       4        3   \n",
       "top        GP    F       U     GT3       T  other  other  course   mother   \n",
       "freq      349  208     295     261     314    133    197     137      250   \n",
       "\n",
       "       schoolsup famsup paid activities nursery higher internet romantic  \n",
       "count        386    356  355        381     379    375      361      364  \n",
       "unique         2      2    2          2       2      2        2        2  \n",
       "top           no    yes   no        yes     yes    yes      yes       no  \n",
       "freq         335    219  200        195     300    356      305      240  "
      ]
     },
     "execution_count": 7,
     "metadata": {},
     "output_type": "execute_result"
    }
   ],
   "source": [
    "# Исследуем объектные данные\n",
    "stud_math.describe(include=['object'])"
   ]
  },
  {
   "cell_type": "code",
   "execution_count": 8,
   "metadata": {
    "scrolled": true
   },
   "outputs": [
    {
     "data": {
      "text/html": [
       "<div>\n",
       "<style scoped>\n",
       "    .dataframe tbody tr th:only-of-type {\n",
       "        vertical-align: middle;\n",
       "    }\n",
       "\n",
       "    .dataframe tbody tr th {\n",
       "        vertical-align: top;\n",
       "    }\n",
       "\n",
       "    .dataframe thead th {\n",
       "        text-align: right;\n",
       "    }\n",
       "</style>\n",
       "<table border=\"1\" class=\"dataframe\">\n",
       "  <thead>\n",
       "    <tr style=\"text-align: right;\">\n",
       "      <th></th>\n",
       "      <th>age</th>\n",
       "      <th>Medu</th>\n",
       "      <th>Fedu</th>\n",
       "      <th>traveltime</th>\n",
       "      <th>studytime</th>\n",
       "      <th>failures</th>\n",
       "      <th>studytime_granular</th>\n",
       "      <th>famrel</th>\n",
       "      <th>freetime</th>\n",
       "      <th>goout</th>\n",
       "      <th>health</th>\n",
       "      <th>absences</th>\n",
       "      <th>score</th>\n",
       "    </tr>\n",
       "  </thead>\n",
       "  <tbody>\n",
       "    <tr>\n",
       "      <td>count</td>\n",
       "      <td>395.000000</td>\n",
       "      <td>392.000000</td>\n",
       "      <td>371.000000</td>\n",
       "      <td>367.000000</td>\n",
       "      <td>388.000000</td>\n",
       "      <td>373.000000</td>\n",
       "      <td>388.000000</td>\n",
       "      <td>368.000000</td>\n",
       "      <td>384.000000</td>\n",
       "      <td>387.000000</td>\n",
       "      <td>380.000000</td>\n",
       "      <td>383.000000</td>\n",
       "      <td>389.000000</td>\n",
       "    </tr>\n",
       "    <tr>\n",
       "      <td>mean</td>\n",
       "      <td>16.696203</td>\n",
       "      <td>2.750000</td>\n",
       "      <td>2.614555</td>\n",
       "      <td>1.438692</td>\n",
       "      <td>2.038660</td>\n",
       "      <td>0.337802</td>\n",
       "      <td>-6.115979</td>\n",
       "      <td>3.937500</td>\n",
       "      <td>3.231771</td>\n",
       "      <td>3.105943</td>\n",
       "      <td>3.531579</td>\n",
       "      <td>7.279373</td>\n",
       "      <td>52.262211</td>\n",
       "    </tr>\n",
       "    <tr>\n",
       "      <td>std</td>\n",
       "      <td>1.276043</td>\n",
       "      <td>1.098127</td>\n",
       "      <td>2.228732</td>\n",
       "      <td>0.694181</td>\n",
       "      <td>0.842078</td>\n",
       "      <td>0.743135</td>\n",
       "      <td>2.526235</td>\n",
       "      <td>0.927277</td>\n",
       "      <td>0.993940</td>\n",
       "      <td>1.115896</td>\n",
       "      <td>1.396019</td>\n",
       "      <td>23.465197</td>\n",
       "      <td>22.919022</td>\n",
       "    </tr>\n",
       "    <tr>\n",
       "      <td>min</td>\n",
       "      <td>15.000000</td>\n",
       "      <td>0.000000</td>\n",
       "      <td>0.000000</td>\n",
       "      <td>1.000000</td>\n",
       "      <td>1.000000</td>\n",
       "      <td>0.000000</td>\n",
       "      <td>-12.000000</td>\n",
       "      <td>-1.000000</td>\n",
       "      <td>1.000000</td>\n",
       "      <td>1.000000</td>\n",
       "      <td>1.000000</td>\n",
       "      <td>0.000000</td>\n",
       "      <td>0.000000</td>\n",
       "    </tr>\n",
       "    <tr>\n",
       "      <td>25%</td>\n",
       "      <td>16.000000</td>\n",
       "      <td>2.000000</td>\n",
       "      <td>2.000000</td>\n",
       "      <td>1.000000</td>\n",
       "      <td>1.000000</td>\n",
       "      <td>0.000000</td>\n",
       "      <td>-6.000000</td>\n",
       "      <td>4.000000</td>\n",
       "      <td>3.000000</td>\n",
       "      <td>2.000000</td>\n",
       "      <td>3.000000</td>\n",
       "      <td>0.000000</td>\n",
       "      <td>40.000000</td>\n",
       "    </tr>\n",
       "    <tr>\n",
       "      <td>50%</td>\n",
       "      <td>17.000000</td>\n",
       "      <td>3.000000</td>\n",
       "      <td>2.000000</td>\n",
       "      <td>1.000000</td>\n",
       "      <td>2.000000</td>\n",
       "      <td>0.000000</td>\n",
       "      <td>-6.000000</td>\n",
       "      <td>4.000000</td>\n",
       "      <td>3.000000</td>\n",
       "      <td>3.000000</td>\n",
       "      <td>4.000000</td>\n",
       "      <td>4.000000</td>\n",
       "      <td>55.000000</td>\n",
       "    </tr>\n",
       "    <tr>\n",
       "      <td>75%</td>\n",
       "      <td>18.000000</td>\n",
       "      <td>4.000000</td>\n",
       "      <td>3.000000</td>\n",
       "      <td>2.000000</td>\n",
       "      <td>2.000000</td>\n",
       "      <td>0.000000</td>\n",
       "      <td>-3.000000</td>\n",
       "      <td>5.000000</td>\n",
       "      <td>4.000000</td>\n",
       "      <td>4.000000</td>\n",
       "      <td>5.000000</td>\n",
       "      <td>8.000000</td>\n",
       "      <td>70.000000</td>\n",
       "    </tr>\n",
       "    <tr>\n",
       "      <td>max</td>\n",
       "      <td>22.000000</td>\n",
       "      <td>4.000000</td>\n",
       "      <td>40.000000</td>\n",
       "      <td>4.000000</td>\n",
       "      <td>4.000000</td>\n",
       "      <td>3.000000</td>\n",
       "      <td>-3.000000</td>\n",
       "      <td>5.000000</td>\n",
       "      <td>5.000000</td>\n",
       "      <td>5.000000</td>\n",
       "      <td>5.000000</td>\n",
       "      <td>385.000000</td>\n",
       "      <td>100.000000</td>\n",
       "    </tr>\n",
       "  </tbody>\n",
       "</table>\n",
       "</div>"
      ],
      "text/plain": [
       "              age        Medu        Fedu  traveltime   studytime    failures  \\\n",
       "count  395.000000  392.000000  371.000000  367.000000  388.000000  373.000000   \n",
       "mean    16.696203    2.750000    2.614555    1.438692    2.038660    0.337802   \n",
       "std      1.276043    1.098127    2.228732    0.694181    0.842078    0.743135   \n",
       "min     15.000000    0.000000    0.000000    1.000000    1.000000    0.000000   \n",
       "25%     16.000000    2.000000    2.000000    1.000000    1.000000    0.000000   \n",
       "50%     17.000000    3.000000    2.000000    1.000000    2.000000    0.000000   \n",
       "75%     18.000000    4.000000    3.000000    2.000000    2.000000    0.000000   \n",
       "max     22.000000    4.000000   40.000000    4.000000    4.000000    3.000000   \n",
       "\n",
       "       studytime_granular      famrel    freetime       goout      health  \\\n",
       "count          388.000000  368.000000  384.000000  387.000000  380.000000   \n",
       "mean            -6.115979    3.937500    3.231771    3.105943    3.531579   \n",
       "std              2.526235    0.927277    0.993940    1.115896    1.396019   \n",
       "min            -12.000000   -1.000000    1.000000    1.000000    1.000000   \n",
       "25%             -6.000000    4.000000    3.000000    2.000000    3.000000   \n",
       "50%             -6.000000    4.000000    3.000000    3.000000    4.000000   \n",
       "75%             -3.000000    5.000000    4.000000    4.000000    5.000000   \n",
       "max             -3.000000    5.000000    5.000000    5.000000    5.000000   \n",
       "\n",
       "         absences       score  \n",
       "count  383.000000  389.000000  \n",
       "mean     7.279373   52.262211  \n",
       "std     23.465197   22.919022  \n",
       "min      0.000000    0.000000  \n",
       "25%      0.000000   40.000000  \n",
       "50%      4.000000   55.000000  \n",
       "75%      8.000000   70.000000  \n",
       "max    385.000000  100.000000  "
      ]
     },
     "execution_count": 8,
     "metadata": {},
     "output_type": "execute_result"
    }
   ],
   "source": [
    "# Исследуем числовые данные\n",
    "stud_math.describe()"
   ]
  },
  {
   "cell_type": "markdown",
   "metadata": {},
   "source": [
    "Пропуски в категориальных колонках заполним самым частым значением"
   ]
  },
  {
   "cell_type": "code",
   "execution_count": 9,
   "metadata": {},
   "outputs": [],
   "source": [
    "for col in stud_math:\n",
    "    if stud_math[col].dtype == 'object':\n",
    "        stud_math.Pstatus.fillna(stud_math[col].mode()[0], inplace=True)"
   ]
  },
  {
   "cell_type": "markdown",
   "metadata": {},
   "source": [
    "Пропуски в колонках 'score', 'absences' заполним медианным значением"
   ]
  },
  {
   "cell_type": "code",
   "execution_count": 10,
   "metadata": {},
   "outputs": [],
   "source": [
    "stud_math.score.fillna(stud_math.score.mode()[0], inplace=True)\n",
    "stud_math.absences.fillna(stud_math.absences.mode()[0], inplace=True)"
   ]
  },
  {
   "cell_type": "markdown",
   "metadata": {},
   "source": [
    "Оставшиеся пропуски заполним также самым частым значением"
   ]
  },
  {
   "cell_type": "code",
   "execution_count": 11,
   "metadata": {},
   "outputs": [],
   "source": [
    "for col in stud_math:\n",
    "    stud_math[col].fillna(stud_math[col].mode()[0], inplace=True)"
   ]
  },
  {
   "cell_type": "markdown",
   "metadata": {},
   "source": [
    "### Этап 2.\n",
    "**Изучаем распределение числовых признаков. Устраняем выбросы**"
   ]
  },
  {
   "cell_type": "markdown",
   "metadata": {},
   "source": [
    "Ищем выбросы в главной колонке \"score\"."
   ]
  },
  {
   "cell_type": "code",
   "execution_count": 12,
   "metadata": {
    "scrolled": true
   },
   "outputs": [
    {
     "data": {
      "text/plain": [
       "<matplotlib.axes._subplots.AxesSubplot at 0x2450fb7b0c8>"
      ]
     },
     "execution_count": 12,
     "metadata": {},
     "output_type": "execute_result"
    },
    {
     "data": {
      "image/png": "[encoded data removed]",
      "text/plain": [
       "<Figure size 432x288 with 1 Axes>"
      ]
     },
     "metadata": {
      "needs_background": "light"
     },
     "output_type": "display_data"
    }
   ],
   "source": [
    "stud_math.boxplot(column=['score'])"
   ]
  },
  {
   "cell_type": "code",
   "execution_count": 13,
   "metadata": {},
   "outputs": [
    {
     "name": "stdout",
     "output_type": "stream",
     "text": [
      "Границы выбросов absences: [-5.0, 115.0].\n"
     ]
    }
   ],
   "source": [
    "IQR = stud_math.score.quantile(0.75) - stud_math.score.quantile(0.25)\n",
    "perc25 = stud_math.score.quantile(0.25)\n",
    "perc75 = stud_math.score.quantile(0.75)\n",
    "print(\"Границы выбросов absences: [{f}, {l}].\".format(\n",
    "    f=perc25 - 1.5*IQR, l=perc75 + 1.5*IQR))"
   ]
  },
  {
   "cell_type": "markdown",
   "metadata": {},
   "source": [
    "нет выбросов в колонке \"score\";\n",
    "максимальные и минимальные значения - в пределах границ выбросов."
   ]
  },
  {
   "cell_type": "markdown",
   "metadata": {},
   "source": [
    "Посчитаем количество значений в остальных числовых колонках."
   ]
  },
  {
   "cell_type": "code",
   "execution_count": 14,
   "metadata": {},
   "outputs": [
    {
     "data": {
      "text/plain": [
       "16    104\n",
       "17     98\n",
       "18     82\n",
       "15     82\n",
       "19     24\n",
       "20      3\n",
       "22      1\n",
       "21      1\n",
       "Name: age, dtype: int64"
      ]
     },
     "metadata": {},
     "output_type": "display_data"
    },
    {
     "data": {
      "text/plain": [
       "4.0    134\n",
       "2.0    102\n",
       "3.0     97\n",
       "1.0     59\n",
       "0.0      3\n",
       "Name: Medu, dtype: int64"
      ]
     },
     "metadata": {},
     "output_type": "display_data"
    },
    {
     "data": {
      "text/plain": [
       "2.0     130\n",
       "3.0      96\n",
       "4.0      88\n",
       "1.0      78\n",
       "0.0       2\n",
       "40.0      1\n",
       "Name: Fedu, dtype: int64"
      ]
     },
     "metadata": {},
     "output_type": "display_data"
    },
    {
     "data": {
      "text/plain": [
       "1.0    270\n",
       "2.0     96\n",
       "3.0     22\n",
       "4.0      7\n",
       "Name: traveltime, dtype: int64"
      ]
     },
     "metadata": {},
     "output_type": "display_data"
    },
    {
     "data": {
      "text/plain": [
       "2.0    201\n",
       "1.0    103\n",
       "3.0     64\n",
       "4.0     27\n",
       "Name: studytime, dtype: int64"
      ]
     },
     "metadata": {},
     "output_type": "display_data"
    },
    {
     "data": {
      "text/plain": [
       "0.0    315\n",
       "1.0     49\n",
       "2.0     16\n",
       "3.0     15\n",
       "Name: failures, dtype: int64"
      ]
     },
     "metadata": {},
     "output_type": "display_data"
    },
    {
     "data": {
      "text/plain": [
       "-6.0     201\n",
       "-3.0     103\n",
       "-9.0      64\n",
       "-12.0     27\n",
       "Name: studytime_granular, dtype: int64"
      ]
     },
     "metadata": {},
     "output_type": "display_data"
    },
    {
     "data": {
      "text/plain": [
       " 4.0    209\n",
       " 5.0     99\n",
       " 3.0     62\n",
       " 2.0     17\n",
       " 1.0      7\n",
       "-1.0      1\n",
       "Name: famrel, dtype: int64"
      ]
     },
     "metadata": {},
     "output_type": "display_data"
    },
    {
     "data": {
      "text/plain": [
       "3.0    164\n",
       "4.0    112\n",
       "2.0     63\n",
       "5.0     38\n",
       "1.0     18\n",
       "Name: freetime, dtype: int64"
      ]
     },
     "metadata": {},
     "output_type": "display_data"
    },
    {
     "data": {
      "text/plain": [
       "3.0    135\n",
       "2.0    101\n",
       "4.0     84\n",
       "5.0     52\n",
       "1.0     23\n",
       "Name: goout, dtype: int64"
      ]
     },
     "metadata": {},
     "output_type": "display_data"
    },
    {
     "data": {
      "text/plain": [
       "5.0    153\n",
       "3.0     89\n",
       "4.0     63\n",
       "1.0     47\n",
       "2.0     43\n",
       "Name: health, dtype: int64"
      ]
     },
     "metadata": {},
     "output_type": "display_data"
    },
    {
     "data": {
      "text/plain": [
       "0.0      123\n",
       "2.0       60\n",
       "4.0       53\n",
       "6.0       31\n",
       "8.0       21\n",
       "10.0      17\n",
       "12.0      12\n",
       "14.0      12\n",
       "3.0        8\n",
       "16.0       7\n",
       "7.0        6\n",
       "5.0        5\n",
       "18.0       5\n",
       "20.0       4\n",
       "22.0       3\n",
       "9.0        3\n",
       "1.0        3\n",
       "15.0       2\n",
       "13.0       2\n",
       "11.0       2\n",
       "25.0       1\n",
       "54.0       1\n",
       "385.0      1\n",
       "26.0       1\n",
       "56.0       1\n",
       "24.0       1\n",
       "212.0      1\n",
       "21.0       1\n",
       "75.0       1\n",
       "30.0       1\n",
       "19.0       1\n",
       "38.0       1\n",
       "40.0       1\n",
       "23.0       1\n",
       "17.0       1\n",
       "28.0       1\n",
       "Name: absences, dtype: int64"
      ]
     },
     "metadata": {},
     "output_type": "display_data"
    },
    {
     "data": {
      "text/plain": [
       "50.0     60\n",
       "55.0     46\n",
       "0.0      37\n",
       "75.0     33\n",
       "65.0     31\n",
       "40.0     31\n",
       "60.0     31\n",
       "70.0     27\n",
       "45.0     27\n",
       "80.0     16\n",
       "30.0     15\n",
       "90.0     12\n",
       "35.0      9\n",
       "25.0      7\n",
       "85.0      6\n",
       "95.0      5\n",
       "100.0     1\n",
       "20.0      1\n",
       "Name: score, dtype: int64"
      ]
     },
     "metadata": {},
     "output_type": "display_data"
    }
   ],
   "source": [
    "# Числовые колонки\n",
    "for col in stud_math:\n",
    "    if stud_math[col].dtype != 'object':\n",
    "        display(stud_math[col].value_counts())"
   ]
  },
  {
   "cell_type": "markdown",
   "metadata": {},
   "source": [
    "Подсчитываем количество разных значений в колонках:\n",
    "age - значения лежат в пределах исследования;\n",
    "Medu - в пределах исследования; Делаю допущение, что признак можно считать категорийным. Так как содержит ограниченный набор значений.\n",
    "Fedu - есть выброс; Также признак можно считать категорийным."
   ]
  },
  {
   "cell_type": "code",
   "execution_count": 15,
   "metadata": {},
   "outputs": [
    {
     "data": {
      "text/plain": [
       "2.0     130\n",
       "3.0      96\n",
       "4.0      88\n",
       "1.0      78\n",
       "0.0       2\n",
       "40.0      1\n",
       "Name: Fedu, dtype: int64"
      ]
     },
     "execution_count": 15,
     "metadata": {},
     "output_type": "execute_result"
    }
   ],
   "source": [
    "stud_math['Fedu'].value_counts()"
   ]
  },
  {
   "cell_type": "code",
   "execution_count": 16,
   "metadata": {},
   "outputs": [],
   "source": [
    "# удаляем выброс Fedu\n",
    "stud_math = stud_math.loc[stud_math.Fedu <= 4.0]"
   ]
  },
  {
   "cell_type": "markdown",
   "metadata": {},
   "source": [
    "Далее\n",
    "Подсчитываем количество разных значений:\n",
    "traveltime - в пределах исследования; Также признак можно считать категорийным.\n",
    "studytime - в пределах исследования; Также признак можно считать категорийным.\n",
    "failures - в пределах исследования; Также признак можно считать категорийным.\n",
    "studytime_granular - столбец не описан во вводной части, но оставлю его. Можно считать категорийным.\n",
    "famrel - есть выброс; Также признак можно считать категорийным."
   ]
  },
  {
   "cell_type": "code",
   "execution_count": 17,
   "metadata": {},
   "outputs": [
    {
     "data": {
      "text/plain": [
       " 4.0    209\n",
       " 5.0     98\n",
       " 3.0     62\n",
       " 2.0     17\n",
       " 1.0      7\n",
       "-1.0      1\n",
       "Name: famrel, dtype: int64"
      ]
     },
     "execution_count": 17,
     "metadata": {},
     "output_type": "execute_result"
    }
   ],
   "source": [
    "stud_math['famrel'].value_counts()"
   ]
  },
  {
   "cell_type": "code",
   "execution_count": 18,
   "metadata": {},
   "outputs": [],
   "source": [
    "# удаляем выброс famrel\n",
    "stud_math = stud_math.loc[stud_math.famrel >= 1.0]"
   ]
  },
  {
   "cell_type": "markdown",
   "metadata": {},
   "source": [
    "Далее\n",
    "Подсчитываем количество разных значений:\n",
    "freetime - в пределах исследования; Также признак можно считать категорийным.\n",
    "goout - в пределах исследования; Также признак можно считать категорийным.\n",
    "health - в пределах исследования; Также признак можно считать категорийным.\n",
    "absences - есть выброс; "
   ]
  },
  {
   "cell_type": "code",
   "execution_count": 19,
   "metadata": {},
   "outputs": [
    {
     "data": {
      "text/plain": [
       "<matplotlib.axes._subplots.AxesSubplot at 0x2450fc6abc8>"
      ]
     },
     "execution_count": 19,
     "metadata": {},
     "output_type": "execute_result"
    },
    {
     "data": {
      "image/png": "[encoded data removed]",
      "text/plain": [
       "<Figure size 432x288 with 1 Axes>"
      ]
     },
     "metadata": {
      "needs_background": "light"
     },
     "output_type": "display_data"
    }
   ],
   "source": [
    "stud_math.boxplot(column=['absences'])"
   ]
  },
  {
   "cell_type": "code",
   "execution_count": 20,
   "metadata": {},
   "outputs": [
    {
     "name": "stdout",
     "output_type": "stream",
     "text": [
      "Границы выбросов absences: [-12.0, 20.0].\n"
     ]
    }
   ],
   "source": [
    "IQR = stud_math.absences.quantile(0.75) - stud_math.absences.quantile(0.25)\n",
    "perc25 = stud_math.absences.quantile(0.25)\n",
    "perc75 = stud_math.absences.quantile(0.75)\n",
    "print(\"Границы выбросов absences: [{f}, {l}].\".format(\n",
    "    f=perc25 - 1.5*IQR, l=perc75 + 1.5*IQR))"
   ]
  },
  {
   "cell_type": "code",
   "execution_count": 21,
   "metadata": {},
   "outputs": [],
   "source": [
    "# удаляем выброс absences\n",
    "stud_math = stud_math.loc[stud_math.absences.between(\n",
    "    perc25 - 1.5*IQR, perc75 + 1.5*IQR)]"
   ]
  },
  {
   "cell_type": "markdown",
   "metadata": {},
   "source": [
    "Посчитаем количество значений в категорийных колонках."
   ]
  },
  {
   "cell_type": "code",
   "execution_count": 22,
   "metadata": {},
   "outputs": [
    {
     "data": {
      "text/plain": [
       "GP    331\n",
       "MS     45\n",
       "Name: school, dtype: int64"
      ]
     },
     "metadata": {},
     "output_type": "display_data"
    },
    {
     "data": {
      "text/plain": [
       "F    193\n",
       "M    183\n",
       "Name: sex, dtype: int64"
      ]
     },
     "metadata": {},
     "output_type": "display_data"
    },
    {
     "data": {
      "text/plain": [
       "U    295\n",
       "R     81\n",
       "Name: address, dtype: int64"
      ]
     },
     "metadata": {},
     "output_type": "display_data"
    },
    {
     "data": {
      "text/plain": [
       "GT3    272\n",
       "LE3    104\n",
       "Name: famsize, dtype: int64"
      ]
     },
     "metadata": {},
     "output_type": "display_data"
    },
    {
     "data": {
      "text/plain": [
       "T     306\n",
       "GP     38\n",
       "A      32\n",
       "Name: Pstatus, dtype: int64"
      ]
     },
     "metadata": {},
     "output_type": "display_data"
    },
    {
     "data": {
      "text/plain": [
       "other       144\n",
       "services     89\n",
       "at_home      57\n",
       "teacher      54\n",
       "health       32\n",
       "Name: Mjob, dtype: int64"
      ]
     },
     "metadata": {},
     "output_type": "display_data"
    },
    {
     "data": {
      "text/plain": [
       "other       224\n",
       "services     94\n",
       "teacher      27\n",
       "at_home      16\n",
       "health       15\n",
       "Name: Fjob, dtype: int64"
      ]
     },
     "metadata": {},
     "output_type": "display_data"
    },
    {
     "data": {
      "text/plain": [
       "course        152\n",
       "reputation     97\n",
       "home           94\n",
       "other          33\n",
       "Name: reason, dtype: int64"
      ]
     },
     "metadata": {},
     "output_type": "display_data"
    },
    {
     "data": {
      "text/plain": [
       "mother    267\n",
       "father     84\n",
       "other      25\n",
       "Name: guardian, dtype: int64"
      ]
     },
     "metadata": {},
     "output_type": "display_data"
    },
    {
     "data": {
      "text/plain": [
       "no     328\n",
       "yes     48\n",
       "Name: schoolsup, dtype: int64"
      ]
     },
     "metadata": {},
     "output_type": "display_data"
    },
    {
     "data": {
      "text/plain": [
       "yes    243\n",
       "no     133\n",
       "Name: famsup, dtype: int64"
      ]
     },
     "metadata": {},
     "output_type": "display_data"
    },
    {
     "data": {
      "text/plain": [
       "no     232\n",
       "yes    144\n",
       "Name: paid, dtype: int64"
      ]
     },
     "metadata": {},
     "output_type": "display_data"
    },
    {
     "data": {
      "text/plain": [
       "yes    203\n",
       "no     173\n",
       "Name: activities, dtype: int64"
      ]
     },
     "metadata": {},
     "output_type": "display_data"
    },
    {
     "data": {
      "text/plain": [
       "yes    301\n",
       "no      75\n",
       "Name: nursery, dtype: int64"
      ]
     },
     "metadata": {},
     "output_type": "display_data"
    },
    {
     "data": {
      "text/plain": [
       "yes    358\n",
       "no      18\n",
       "Name: higher, dtype: int64"
      ]
     },
     "metadata": {},
     "output_type": "display_data"
    },
    {
     "data": {
      "text/plain": [
       "yes    321\n",
       "no      55\n",
       "Name: internet, dtype: int64"
      ]
     },
     "metadata": {},
     "output_type": "display_data"
    },
    {
     "data": {
      "text/plain": [
       "no     262\n",
       "yes    114\n",
       "Name: romantic, dtype: int64"
      ]
     },
     "metadata": {},
     "output_type": "display_data"
    }
   ],
   "source": [
    "# категорийные колонки\n",
    "for col in stud_math:\n",
    "    if stud_math[col].dtype == 'object':\n",
    "        display(stud_math[col].value_counts())"
   ]
  },
  {
   "cell_type": "markdown",
   "metadata": {},
   "source": [
    "В категорийных колонках странностей не обнаружено. Значения соответствуют описанию."
   ]
  },
  {
   "cell_type": "markdown",
   "metadata": {},
   "source": [
    "### Этап 3.\n",
    "**Корреляционный анализ**"
   ]
  },
  {
   "cell_type": "code",
   "execution_count": 23,
   "metadata": {},
   "outputs": [
    {
     "data": {
      "text/html": [
       "<div>\n",
       "<style scoped>\n",
       "    .dataframe tbody tr th:only-of-type {\n",
       "        vertical-align: middle;\n",
       "    }\n",
       "\n",
       "    .dataframe tbody tr th {\n",
       "        vertical-align: top;\n",
       "    }\n",
       "\n",
       "    .dataframe thead th {\n",
       "        text-align: right;\n",
       "    }\n",
       "</style>\n",
       "<table border=\"1\" class=\"dataframe\">\n",
       "  <thead>\n",
       "    <tr style=\"text-align: right;\">\n",
       "      <th></th>\n",
       "      <th>age</th>\n",
       "      <th>Medu</th>\n",
       "      <th>Fedu</th>\n",
       "      <th>traveltime</th>\n",
       "      <th>studytime</th>\n",
       "      <th>failures</th>\n",
       "      <th>studytime_granular</th>\n",
       "      <th>famrel</th>\n",
       "      <th>freetime</th>\n",
       "      <th>goout</th>\n",
       "      <th>health</th>\n",
       "      <th>absences</th>\n",
       "      <th>score</th>\n",
       "    </tr>\n",
       "  </thead>\n",
       "  <tbody>\n",
       "    <tr>\n",
       "      <td>age</td>\n",
       "      <td>1.000000</td>\n",
       "      <td>-0.181623</td>\n",
       "      <td>-0.169810</td>\n",
       "      <td>0.095131</td>\n",
       "      <td>-0.008483</td>\n",
       "      <td>0.221297</td>\n",
       "      <td>0.008483</td>\n",
       "      <td>0.060337</td>\n",
       "      <td>0.043582</td>\n",
       "      <td>0.145308</td>\n",
       "      <td>-0.055122</td>\n",
       "      <td>0.144836</td>\n",
       "      <td>-0.162181</td>\n",
       "    </tr>\n",
       "    <tr>\n",
       "      <td>Medu</td>\n",
       "      <td>-0.181623</td>\n",
       "      <td>1.000000</td>\n",
       "      <td>0.592230</td>\n",
       "      <td>-0.174315</td>\n",
       "      <td>0.092265</td>\n",
       "      <td>-0.251608</td>\n",
       "      <td>-0.092265</td>\n",
       "      <td>-0.016949</td>\n",
       "      <td>0.044207</td>\n",
       "      <td>0.049682</td>\n",
       "      <td>-0.060891</td>\n",
       "      <td>0.072306</td>\n",
       "      <td>0.206645</td>\n",
       "    </tr>\n",
       "    <tr>\n",
       "      <td>Fedu</td>\n",
       "      <td>-0.169810</td>\n",
       "      <td>0.592230</td>\n",
       "      <td>1.000000</td>\n",
       "      <td>-0.132565</td>\n",
       "      <td>0.009131</td>\n",
       "      <td>-0.277640</td>\n",
       "      <td>-0.009131</td>\n",
       "      <td>-0.027580</td>\n",
       "      <td>-0.015852</td>\n",
       "      <td>0.039550</td>\n",
       "      <td>-0.005697</td>\n",
       "      <td>-0.034223</td>\n",
       "      <td>0.120427</td>\n",
       "    </tr>\n",
       "    <tr>\n",
       "      <td>traveltime</td>\n",
       "      <td>0.095131</td>\n",
       "      <td>-0.174315</td>\n",
       "      <td>-0.132565</td>\n",
       "      <td>1.000000</td>\n",
       "      <td>-0.092025</td>\n",
       "      <td>0.063948</td>\n",
       "      <td>0.092025</td>\n",
       "      <td>-0.029791</td>\n",
       "      <td>0.004231</td>\n",
       "      <td>0.050271</td>\n",
       "      <td>-0.044232</td>\n",
       "      <td>-0.023318</td>\n",
       "      <td>-0.057680</td>\n",
       "    </tr>\n",
       "    <tr>\n",
       "      <td>studytime</td>\n",
       "      <td>-0.008483</td>\n",
       "      <td>0.092265</td>\n",
       "      <td>0.009131</td>\n",
       "      <td>-0.092025</td>\n",
       "      <td>1.000000</td>\n",
       "      <td>-0.167298</td>\n",
       "      <td>-1.000000</td>\n",
       "      <td>0.020988</td>\n",
       "      <td>-0.132306</td>\n",
       "      <td>-0.040009</td>\n",
       "      <td>-0.068632</td>\n",
       "      <td>-0.065573</td>\n",
       "      <td>0.116237</td>\n",
       "    </tr>\n",
       "    <tr>\n",
       "      <td>failures</td>\n",
       "      <td>0.221297</td>\n",
       "      <td>-0.251608</td>\n",
       "      <td>-0.277640</td>\n",
       "      <td>0.063948</td>\n",
       "      <td>-0.167298</td>\n",
       "      <td>1.000000</td>\n",
       "      <td>0.167298</td>\n",
       "      <td>0.003821</td>\n",
       "      <td>0.089126</td>\n",
       "      <td>0.104564</td>\n",
       "      <td>0.079122</td>\n",
       "      <td>0.063594</td>\n",
       "      <td>-0.332017</td>\n",
       "    </tr>\n",
       "    <tr>\n",
       "      <td>studytime_granular</td>\n",
       "      <td>0.008483</td>\n",
       "      <td>-0.092265</td>\n",
       "      <td>-0.009131</td>\n",
       "      <td>0.092025</td>\n",
       "      <td>-1.000000</td>\n",
       "      <td>0.167298</td>\n",
       "      <td>1.000000</td>\n",
       "      <td>-0.020988</td>\n",
       "      <td>0.132306</td>\n",
       "      <td>0.040009</td>\n",
       "      <td>0.068632</td>\n",
       "      <td>0.065573</td>\n",
       "      <td>-0.116237</td>\n",
       "    </tr>\n",
       "    <tr>\n",
       "      <td>famrel</td>\n",
       "      <td>0.060337</td>\n",
       "      <td>-0.016949</td>\n",
       "      <td>-0.027580</td>\n",
       "      <td>-0.029791</td>\n",
       "      <td>0.020988</td>\n",
       "      <td>0.003821</td>\n",
       "      <td>-0.020988</td>\n",
       "      <td>1.000000</td>\n",
       "      <td>0.160327</td>\n",
       "      <td>0.066849</td>\n",
       "      <td>0.092280</td>\n",
       "      <td>-0.060075</td>\n",
       "      <td>0.058637</td>\n",
       "    </tr>\n",
       "    <tr>\n",
       "      <td>freetime</td>\n",
       "      <td>0.043582</td>\n",
       "      <td>0.044207</td>\n",
       "      <td>-0.015852</td>\n",
       "      <td>0.004231</td>\n",
       "      <td>-0.132306</td>\n",
       "      <td>0.089126</td>\n",
       "      <td>0.132306</td>\n",
       "      <td>0.160327</td>\n",
       "      <td>1.000000</td>\n",
       "      <td>0.274073</td>\n",
       "      <td>0.060808</td>\n",
       "      <td>0.090479</td>\n",
       "      <td>0.037410</td>\n",
       "    </tr>\n",
       "    <tr>\n",
       "      <td>goout</td>\n",
       "      <td>0.145308</td>\n",
       "      <td>0.049682</td>\n",
       "      <td>0.039550</td>\n",
       "      <td>0.050271</td>\n",
       "      <td>-0.040009</td>\n",
       "      <td>0.104564</td>\n",
       "      <td>0.040009</td>\n",
       "      <td>0.066849</td>\n",
       "      <td>0.274073</td>\n",
       "      <td>1.000000</td>\n",
       "      <td>-0.000426</td>\n",
       "      <td>0.097096</td>\n",
       "      <td>-0.111309</td>\n",
       "    </tr>\n",
       "    <tr>\n",
       "      <td>health</td>\n",
       "      <td>-0.055122</td>\n",
       "      <td>-0.060891</td>\n",
       "      <td>-0.005697</td>\n",
       "      <td>-0.044232</td>\n",
       "      <td>-0.068632</td>\n",
       "      <td>0.079122</td>\n",
       "      <td>0.068632</td>\n",
       "      <td>0.092280</td>\n",
       "      <td>0.060808</td>\n",
       "      <td>-0.000426</td>\n",
       "      <td>1.000000</td>\n",
       "      <td>-0.021292</td>\n",
       "      <td>-0.081248</td>\n",
       "    </tr>\n",
       "    <tr>\n",
       "      <td>absences</td>\n",
       "      <td>0.144836</td>\n",
       "      <td>0.072306</td>\n",
       "      <td>-0.034223</td>\n",
       "      <td>-0.023318</td>\n",
       "      <td>-0.065573</td>\n",
       "      <td>0.063594</td>\n",
       "      <td>0.065573</td>\n",
       "      <td>-0.060075</td>\n",
       "      <td>0.090479</td>\n",
       "      <td>0.097096</td>\n",
       "      <td>-0.021292</td>\n",
       "      <td>1.000000</td>\n",
       "      <td>0.072709</td>\n",
       "    </tr>\n",
       "    <tr>\n",
       "      <td>score</td>\n",
       "      <td>-0.162181</td>\n",
       "      <td>0.206645</td>\n",
       "      <td>0.120427</td>\n",
       "      <td>-0.057680</td>\n",
       "      <td>0.116237</td>\n",
       "      <td>-0.332017</td>\n",
       "      <td>-0.116237</td>\n",
       "      <td>0.058637</td>\n",
       "      <td>0.037410</td>\n",
       "      <td>-0.111309</td>\n",
       "      <td>-0.081248</td>\n",
       "      <td>0.072709</td>\n",
       "      <td>1.000000</td>\n",
       "    </tr>\n",
       "  </tbody>\n",
       "</table>\n",
       "</div>"
      ],
      "text/plain": [
       "                         age      Medu      Fedu  traveltime  studytime  \\\n",
       "age                 1.000000 -0.181623 -0.169810    0.095131  -0.008483   \n",
       "Medu               -0.181623  1.000000  0.592230   -0.174315   0.092265   \n",
       "Fedu               -0.169810  0.592230  1.000000   -0.132565   0.009131   \n",
       "traveltime          0.095131 -0.174315 -0.132565    1.000000  -0.092025   \n",
       "studytime          -0.008483  0.092265  0.009131   -0.092025   1.000000   \n",
       "failures            0.221297 -0.251608 -0.277640    0.063948  -0.167298   \n",
       "studytime_granular  0.008483 -0.092265 -0.009131    0.092025  -1.000000   \n",
       "famrel              0.060337 -0.016949 -0.027580   -0.029791   0.020988   \n",
       "freetime            0.043582  0.044207 -0.015852    0.004231  -0.132306   \n",
       "goout               0.145308  0.049682  0.039550    0.050271  -0.040009   \n",
       "health             -0.055122 -0.060891 -0.005697   -0.044232  -0.068632   \n",
       "absences            0.144836  0.072306 -0.034223   -0.023318  -0.065573   \n",
       "score              -0.162181  0.206645  0.120427   -0.057680   0.116237   \n",
       "\n",
       "                    failures  studytime_granular    famrel  freetime  \\\n",
       "age                 0.221297            0.008483  0.060337  0.043582   \n",
       "Medu               -0.251608           -0.092265 -0.016949  0.044207   \n",
       "Fedu               -0.277640           -0.009131 -0.027580 -0.015852   \n",
       "traveltime          0.063948            0.092025 -0.029791  0.004231   \n",
       "studytime          -0.167298           -1.000000  0.020988 -0.132306   \n",
       "failures            1.000000            0.167298  0.003821  0.089126   \n",
       "studytime_granular  0.167298            1.000000 -0.020988  0.132306   \n",
       "famrel              0.003821           -0.020988  1.000000  0.160327   \n",
       "freetime            0.089126            0.132306  0.160327  1.000000   \n",
       "goout               0.104564            0.040009  0.066849  0.274073   \n",
       "health              0.079122            0.068632  0.092280  0.060808   \n",
       "absences            0.063594            0.065573 -0.060075  0.090479   \n",
       "score              -0.332017           -0.116237  0.058637  0.037410   \n",
       "\n",
       "                       goout    health  absences     score  \n",
       "age                 0.145308 -0.055122  0.144836 -0.162181  \n",
       "Medu                0.049682 -0.060891  0.072306  0.206645  \n",
       "Fedu                0.039550 -0.005697 -0.034223  0.120427  \n",
       "traveltime          0.050271 -0.044232 -0.023318 -0.057680  \n",
       "studytime          -0.040009 -0.068632 -0.065573  0.116237  \n",
       "failures            0.104564  0.079122  0.063594 -0.332017  \n",
       "studytime_granular  0.040009  0.068632  0.065573 -0.116237  \n",
       "famrel              0.066849  0.092280 -0.060075  0.058637  \n",
       "freetime            0.274073  0.060808  0.090479  0.037410  \n",
       "goout               1.000000 -0.000426  0.097096 -0.111309  \n",
       "health             -0.000426  1.000000 -0.021292 -0.081248  \n",
       "absences            0.097096 -0.021292  1.000000  0.072709  \n",
       "score              -0.111309 -0.081248  0.072709  1.000000  "
      ]
     },
     "execution_count": 23,
     "metadata": {},
     "output_type": "execute_result"
    }
   ],
   "source": [
    "stud_math.corr()"
   ]
  },
  {
   "cell_type": "markdown",
   "metadata": {},
   "source": [
    "Колонок с высокой корреляцией не видно."
   ]
  },
  {
   "cell_type": "markdown",
   "metadata": {},
   "source": [
    "### Этап 4.\n",
    "**Анализ номинативных переменных**"
   ]
  },
  {
   "cell_type": "code",
   "execution_count": 24,
   "metadata": {},
   "outputs": [
    {
     "data": {
      "image/png": "[encoded data removed]",
      "text/plain": [
       "<Figure size 432x288 with 1 Axes>"
      ]
     },
     "metadata": {
      "needs_background": "light"
     },
     "output_type": "display_data"
    },
    {
     "data": {
      "image/png": "[encoded data removed]",
      "text/plain": [
       "<Figure size 432x288 with 1 Axes>"
      ]
     },
     "metadata": {
      "needs_background": "light"
     },
     "output_type": "display_data"
    },
    {
     "data": {
      "image/png": "[encoded data removed]",
      "text/plain": [
       "<Figure size 432x288 with 1 Axes>"
      ]
     },
     "metadata": {
      "needs_background": "light"
     },
     "output_type": "display_data"
    },
    {
     "data": {
      "image/png": "[encoded data removed]",
      "text/plain": [
       "<Figure size 432x288 with 1 Axes>"
      ]
     },
     "metadata": {
      "needs_background": "light"
     },
     "output_type": "display_data"
    },
    {
     "data": {
      "image/png": "[encoded data removed]",
      "text/plain": [
       "<Figure size 432x288 with 1 Axes>"
      ]
     },
     "metadata": {
      "needs_background": "light"
     },
     "output_type": "display_data"
    },
    {
     "data": {
      "image/png": "[encoded data removed]",
      "text/plain": [
       "<Figure size 432x288 with 1 Axes>"
      ]
     },
     "metadata": {
      "needs_background": "light"
     },
     "output_type": "display_data"
    },
    {
     "data": {
      "image/png": "[encoded data removed]",
      "text/plain": [
       "<Figure size 432x288 with 1 Axes>"
      ]
     },
     "metadata": {
      "needs_background": "light"
     },
     "output_type": "display_data"
    },
    {
     "data": {
      "image/png": "[encoded data removed]",
      "text/plain": [
       "<Figure size 432x288 with 1 Axes>"
      ]
     },
     "metadata": {
      "needs_background": "light"
     },
     "output_type": "display_data"
    },
    {
     "data": {
      "image/png": "[encoded data removed]",
      "text/plain": [
       "<Figure size 432x288 with 1 Axes>"
      ]
     },
     "metadata": {
      "needs_background": "light"
     },
     "output_type": "display_data"
    },
    {
     "data": {
      "image/png": "[encoded data removed]",
      "text/plain": [
       "<Figure size 432x288 with 1 Axes>"
      ]
     },
     "metadata": {
      "needs_background": "light"
     },
     "output_type": "display_data"
    },
    {
     "data": {
      "image/png": "[encoded data removed]",
      "text/plain": [
       "<Figure size 432x288 with 1 Axes>"
      ]
     },
     "metadata": {
      "needs_background": "light"
     },
     "output_type": "display_data"
    },
    {
     "data": {
      "image/png": "[encoded data removed]",
      "text/plain": [
       "<Figure size 432x288 with 1 Axes>"
      ]
     },
     "metadata": {
      "needs_background": "light"
     },
     "output_type": "display_data"
    },
    {
     "data": {
      "image/png": "[encoded data removed]",
      "text/plain": [
       "<Figure size 432x288 with 1 Axes>"
      ]
     },
     "metadata": {
      "needs_background": "light"
     },
     "output_type": "display_data"
    },
    {
     "data": {
      "image/png": "[encoded data removed]",
      "text/plain": [
       "<Figure size 432x288 with 1 Axes>"
      ]
     },
     "metadata": {
      "needs_background": "light"
     },
     "output_type": "display_data"
    },
    {
     "data": {
      "image/png": "[encoded data removed]",
      "text/plain": [
       "<Figure size 432x288 with 1 Axes>"
      ]
     },
     "metadata": {
      "needs_background": "light"
     },
     "output_type": "display_data"
    },
    {
     "data": {
      "image/png": "[encoded data removed]",
      "text/plain": [
       "<Figure size 432x288 with 1 Axes>"
      ]
     },
     "metadata": {
      "needs_background": "light"
     },
     "output_type": "display_data"
    },
    {
     "data": {
      "image/png": "[encoded data removed]",
      "text/plain": [
       "<Figure size 432x288 with 1 Axes>"
      ]
     },
     "metadata": {
      "needs_background": "light"
     },
     "output_type": "display_data"
    }
   ],
   "source": [
    "for col in stud_math:\n",
    "    if stud_math[col].dtype == 'object':\n",
    "        fig, ax = plt.subplots(figsize=(6, 4))\n",
    "        sns.boxplot(x=col, y='score',\n",
    "                    data=stud_math.loc[stud_math.loc[:, col].isin(\n",
    "                        stud_math.loc[:, col].value_counts().index[:20])],\n",
    "                    ax=ax)\n",
    "        plt.xticks(rotation=45)\n",
    "        ax.set_title('Boxplot for ' + col)\n",
    "        plt.show()"
   ]
  },
  {
   "cell_type": "markdown",
   "metadata": {},
   "source": [
    "Делаю допущение, что все параметры влияют на оценку"
   ]
  },
  {
   "cell_type": "markdown",
   "metadata": {},
   "source": [
    "Сделаем тест Стьюдента."
   ]
  },
  {
   "cell_type": "code",
   "execution_count": 25,
   "metadata": {},
   "outputs": [
    {
     "name": "stdout",
     "output_type": "stream",
     "text": [
      "Найдены статистически значимые различия для колонки sex\n",
      "Найдены статистически значимые различия для колонки address\n",
      "Найдены статистически значимые различия для колонки Mjob\n",
      "Найдены статистически значимые различия для колонки paid\n",
      "Найдены статистически значимые различия для колонки higher\n",
      "Найдены статистически значимые различия для колонки romantic\n"
     ]
    }
   ],
   "source": [
    "def get_stat_dif(column):\n",
    "    cols = stud_math.loc[:, column].value_counts().index[:20]\n",
    "    combinations_all = list(combinations(cols, 2))\n",
    "    for comb in combinations_all:\n",
    "        if ttest_ind(stud_math.loc[stud_math.loc[:, column] == comb[0], 'score'],\n",
    "                     stud_math.loc[stud_math.loc[:, column] == comb[1], 'score']).pvalue \\\n",
    "                <= 0.05/len(combinations_all):  # Учли поправку Бонферони\n",
    "            print('Найдены статистически значимые различия для колонки', column)\n",
    "            break\n",
    "\n",
    "\n",
    "for col in ['school', 'sex', 'address', 'famsize', 'Pstatus', 'Mjob', 'Fjob', 'reason', 'guardian', 'schoolsup', 'famsup', 'paid', 'activities', 'nursery', 'higher', 'internet', 'romantic']:\n",
    "    get_stat_dif(col)"
   ]
  },
  {
   "cell_type": "markdown",
   "metadata": {},
   "source": [
    "Проследим, как влияют конкретные значения признаков, отобранным тестом."
   ]
  },
  {
   "cell_type": "markdown",
   "metadata": {},
   "source": [
    "Разделю датасет на две группы. С оценкой < 60 и >= 60 .\n",
    "Это прообраз группы риска (ученики с низкой оценкой)."
   ]
  },
  {
   "cell_type": "code",
   "execution_count": 26,
   "metadata": {},
   "outputs": [
    {
     "data": {
      "text/plain": [
       "219"
      ]
     },
     "execution_count": 26,
     "metadata": {},
     "output_type": "execute_result"
    }
   ],
   "source": [
    "# Количество записей\n",
    "stud_math[stud_math.score < 60.0].shape[0]"
   ]
  },
  {
   "cell_type": "code",
   "execution_count": 27,
   "metadata": {},
   "outputs": [
    {
     "data": {
      "text/plain": [
       "157"
      ]
     },
     "execution_count": 27,
     "metadata": {},
     "output_type": "execute_result"
    }
   ],
   "source": [
    "# Количество записей\n",
    "stud_math[stud_math.score >= 60.0].shape[0]"
   ]
  },
  {
   "cell_type": "code",
   "execution_count": 28,
   "metadata": {
    "scrolled": true
   },
   "outputs": [
    {
     "data": {
      "text/plain": [
       "sex\n",
       "M     95\n",
       "F    124\n",
       "Name: score, dtype: int64"
      ]
     },
     "execution_count": 28,
     "metadata": {},
     "output_type": "execute_result"
    }
   ],
   "source": [
    "stud_math[stud_math.score < 60.0].groupby(\n",
    "    ['sex'])['score'].count().sort_values().head(10)"
   ]
  },
  {
   "cell_type": "code",
   "execution_count": 29,
   "metadata": {
    "scrolled": true
   },
   "outputs": [
    {
     "data": {
      "text/plain": [
       "sex\n",
       "F    69\n",
       "M    88\n",
       "Name: score, dtype: int64"
      ]
     },
     "execution_count": 29,
     "metadata": {},
     "output_type": "execute_result"
    }
   ],
   "source": [
    "stud_math[stud_math.score >= 60.0].groupby(\n",
    "    ['sex'])['score'].count().sort_values().head(10)"
   ]
  },
  {
   "cell_type": "markdown",
   "metadata": {},
   "source": [
    "'sex' - Женщин в гуппе риска больше. Влияние слабое."
   ]
  },
  {
   "cell_type": "code",
   "execution_count": 30,
   "metadata": {
    "scrolled": true
   },
   "outputs": [
    {
     "data": {
      "text/plain": [
       "address\n",
       "R     56\n",
       "U    163\n",
       "Name: score, dtype: int64"
      ]
     },
     "execution_count": 30,
     "metadata": {},
     "output_type": "execute_result"
    }
   ],
   "source": [
    "stud_math[stud_math.score < 60.0].groupby(\n",
    "    ['address'])['score'].count().sort_values().head(10)"
   ]
  },
  {
   "cell_type": "code",
   "execution_count": 31,
   "metadata": {
    "scrolled": true
   },
   "outputs": [
    {
     "data": {
      "text/plain": [
       "address\n",
       "R     25\n",
       "U    132\n",
       "Name: score, dtype: int64"
      ]
     },
     "execution_count": 31,
     "metadata": {},
     "output_type": "execute_result"
    }
   ],
   "source": [
    "stud_math[stud_math.score >= 60.0].groupby(\n",
    "    ['address'])['score'].count().sort_values().head(10)"
   ]
  },
  {
   "cell_type": "markdown",
   "metadata": {},
   "source": [
    "'address' - Живущих за городом в группе риска в два раза больше."
   ]
  },
  {
   "cell_type": "code",
   "execution_count": 32,
   "metadata": {
    "scrolled": true
   },
   "outputs": [
    {
     "data": {
      "text/plain": [
       "Mjob\n",
       "health      12\n",
       "teacher     31\n",
       "at_home     39\n",
       "services    49\n",
       "other       88\n",
       "Name: score, dtype: int64"
      ]
     },
     "execution_count": 32,
     "metadata": {},
     "output_type": "execute_result"
    }
   ],
   "source": [
    "stud_math[stud_math.score < 60.0].groupby(\n",
    "    ['Mjob'])['score'].count().sort_values().head(10)"
   ]
  },
  {
   "cell_type": "code",
   "execution_count": 33,
   "metadata": {
    "scrolled": true
   },
   "outputs": [
    {
     "data": {
      "text/plain": [
       "Mjob\n",
       "at_home     18\n",
       "health      20\n",
       "teacher     23\n",
       "services    40\n",
       "other       56\n",
       "Name: score, dtype: int64"
      ]
     },
     "execution_count": 33,
     "metadata": {},
     "output_type": "execute_result"
    }
   ],
   "source": [
    "stud_math[stud_math.score >= 60.0].groupby(\n",
    "    ['Mjob'])['score'].count().sort_values().head(10)"
   ]
  },
  {
   "cell_type": "markdown",
   "metadata": {},
   "source": [
    "'Mjob' - Уберу столбец. Не вижу преобладающего влияния какого либо значения."
   ]
  },
  {
   "cell_type": "code",
   "execution_count": 34,
   "metadata": {},
   "outputs": [],
   "source": [
    "stud_math.drop(['Mjob'], axis='columns', inplace=True)"
   ]
  },
  {
   "cell_type": "code",
   "execution_count": 35,
   "metadata": {
    "scrolled": true
   },
   "outputs": [
    {
     "data": {
      "text/plain": [
       "paid\n",
       "yes     82\n",
       "no     137\n",
       "Name: score, dtype: int64"
      ]
     },
     "execution_count": 35,
     "metadata": {},
     "output_type": "execute_result"
    }
   ],
   "source": [
    "stud_math[stud_math.score < 60.0].groupby(\n",
    "    ['paid'])['score'].count().sort_values().head(10)"
   ]
  },
  {
   "cell_type": "code",
   "execution_count": 36,
   "metadata": {
    "scrolled": true
   },
   "outputs": [
    {
     "data": {
      "text/plain": [
       "paid\n",
       "yes    62\n",
       "no     95\n",
       "Name: score, dtype: int64"
      ]
     },
     "execution_count": 36,
     "metadata": {},
     "output_type": "execute_result"
    }
   ],
   "source": [
    "stud_math[stud_math.score >= 60.0].groupby(\n",
    "    ['paid'])['score'].count().sort_values().head(10)"
   ]
  },
  {
   "cell_type": "markdown",
   "metadata": {},
   "source": [
    "'paid' - Отсутствие доп. занятий влияет на попадание в группу риска. Влияние слабое."
   ]
  },
  {
   "cell_type": "code",
   "execution_count": 37,
   "metadata": {
    "scrolled": false
   },
   "outputs": [
    {
     "data": {
      "text/plain": [
       "romantic\n",
       "yes     68\n",
       "no     151\n",
       "Name: score, dtype: int64"
      ]
     },
     "execution_count": 37,
     "metadata": {},
     "output_type": "execute_result"
    }
   ],
   "source": [
    "stud_math[stud_math.score < 60.0].groupby(\n",
    "    ['romantic'])['score'].count().sort_values().head(10)"
   ]
  },
  {
   "cell_type": "code",
   "execution_count": 38,
   "metadata": {
    "scrolled": false
   },
   "outputs": [
    {
     "data": {
      "text/plain": [
       "romantic\n",
       "yes     46\n",
       "no     111\n",
       "Name: score, dtype: int64"
      ]
     },
     "execution_count": 38,
     "metadata": {},
     "output_type": "execute_result"
    }
   ],
   "source": [
    "stud_math[stud_math.score >= 60.0].groupby(\n",
    "    ['romantic'])['score'].count().sort_values().head(10)"
   ]
  },
  {
   "cell_type": "markdown",
   "metadata": {},
   "source": [
    "'romantic' - Уберу колонку. Не вижу преобладающего влияния какого либо значения."
   ]
  },
  {
   "cell_type": "code",
   "execution_count": 39,
   "metadata": {},
   "outputs": [],
   "source": [
    "stud_math.drop(['romantic'], axis='columns', inplace=True)"
   ]
  },
  {
   "cell_type": "markdown",
   "metadata": {},
   "source": [
    "Проведу такой же анализ для остальных категорийных и псевдокатегорийных колонок."
   ]
  },
  {
   "cell_type": "code",
   "execution_count": 40,
   "metadata": {
    "scrolled": true
   },
   "outputs": [
    {
     "name": "stdout",
     "output_type": "stream",
     "text": [
      "school\n",
      "MS     30\n",
      "GP    189\n",
      "Name: score, dtype: int64\n",
      "school\n",
      "MS     15\n",
      "GP    142\n",
      "Name: score, dtype: int64\n",
      "age\n",
      "21     1\n",
      "22     1\n",
      "19    16\n",
      "15    41\n",
      "18    52\n",
      "16    53\n",
      "17    55\n",
      "Name: score, dtype: int64\n",
      "age\n",
      "20     2\n",
      "19     5\n",
      "18    27\n",
      "17    37\n",
      "15    39\n",
      "16    47\n",
      "Name: score, dtype: int64\n",
      "famsize\n",
      "LE3     54\n",
      "GT3    165\n",
      "Name: score, dtype: int64\n",
      "famsize\n",
      "LE3     50\n",
      "GT3    107\n",
      "Name: score, dtype: int64\n",
      "Pstatus\n",
      "A      18\n",
      "GP     21\n",
      "T     180\n",
      "Name: score, dtype: int64\n",
      "Pstatus\n",
      "A      14\n",
      "GP     17\n",
      "T     126\n",
      "Name: score, dtype: int64\n",
      "Medu\n",
      "0.0     1\n",
      "1.0    45\n",
      "3.0    53\n",
      "2.0    60\n",
      "4.0    60\n",
      "Name: score, dtype: int64\n",
      "Medu\n",
      "0.0     2\n",
      "1.0    14\n",
      "2.0    36\n",
      "3.0    38\n",
      "4.0    67\n",
      "Name: score, dtype: int64\n",
      "Fedu\n",
      "0.0     1\n",
      "4.0    38\n",
      "1.0    55\n",
      "3.0    55\n",
      "2.0    70\n",
      "Name: score, dtype: int64\n",
      "Fedu\n",
      "0.0     1\n",
      "1.0    23\n",
      "3.0    34\n",
      "4.0    46\n",
      "2.0    53\n",
      "Name: score, dtype: int64\n",
      "Fjob\n",
      "at_home       9\n",
      "health        9\n",
      "teacher      12\n",
      "services     57\n",
      "other       132\n",
      "Name: score, dtype: int64\n",
      "Fjob\n",
      "health       6\n",
      "at_home      7\n",
      "teacher     15\n",
      "services    37\n",
      "other       92\n",
      "Name: score, dtype: int64\n",
      "reason\n",
      "other         18\n",
      "reputation    48\n",
      "home          58\n",
      "course        95\n",
      "Name: score, dtype: int64\n",
      "reason\n",
      "other         15\n",
      "home          36\n",
      "reputation    49\n",
      "course        57\n",
      "Name: score, dtype: int64\n",
      "guardian\n",
      "other      18\n",
      "father     47\n",
      "mother    154\n",
      "Name: score, dtype: int64\n",
      "guardian\n",
      "other       7\n",
      "father     37\n",
      "mother    113\n",
      "Name: score, dtype: int64\n",
      "traveltime\n",
      "4.0      6\n",
      "3.0     14\n",
      "2.0     53\n",
      "1.0    146\n",
      "Name: score, dtype: int64\n",
      "traveltime\n",
      "4.0      1\n",
      "3.0      7\n",
      "2.0     35\n",
      "1.0    114\n",
      "Name: score, dtype: int64\n",
      "studytime\n",
      "4.0     13\n",
      "3.0     30\n",
      "1.0     57\n",
      "2.0    119\n",
      "Name: score, dtype: int64\n",
      "studytime\n",
      "4.0    14\n",
      "3.0    31\n",
      "1.0    41\n",
      "2.0    71\n",
      "Name: score, dtype: int64\n",
      "failures\n",
      "2.0     11\n",
      "3.0     15\n",
      "1.0     32\n",
      "0.0    161\n",
      "Name: score, dtype: int64\n",
      "failures\n",
      "2.0      2\n",
      "1.0     12\n",
      "0.0    143\n",
      "Name: score, dtype: int64\n",
      "schoolsup\n",
      "yes     40\n",
      "no     179\n",
      "Name: score, dtype: int64\n",
      "schoolsup\n",
      "yes      8\n",
      "no     149\n",
      "Name: score, dtype: int64\n",
      "famsup\n",
      "no      75\n",
      "yes    144\n",
      "Name: score, dtype: int64\n",
      "famsup\n",
      "no     58\n",
      "yes    99\n",
      "Name: score, dtype: int64\n",
      "activities\n",
      "no     101\n",
      "yes    118\n",
      "Name: score, dtype: int64\n",
      "activities\n",
      "no     72\n",
      "yes    85\n",
      "Name: score, dtype: int64\n",
      "nursery\n",
      "no      44\n",
      "yes    175\n",
      "Name: score, dtype: int64\n",
      "nursery\n",
      "no      31\n",
      "yes    126\n",
      "Name: score, dtype: int64\n",
      "studytime_granular\n",
      "-12.0     13\n",
      "-9.0      30\n",
      "-3.0      57\n",
      "-6.0     119\n",
      "Name: score, dtype: int64\n",
      "studytime_granular\n",
      "-12.0    14\n",
      "-9.0     31\n",
      "-3.0     41\n",
      "-6.0     71\n",
      "Name: score, dtype: int64\n",
      "internet\n",
      "no      35\n",
      "yes    184\n",
      "Name: score, dtype: int64\n",
      "internet\n",
      "no      20\n",
      "yes    137\n",
      "Name: score, dtype: int64\n",
      "famrel\n",
      "1.0      2\n",
      "2.0     10\n",
      "3.0     35\n",
      "5.0     49\n",
      "4.0    123\n",
      "Name: score, dtype: int64\n",
      "famrel\n",
      "1.0     5\n",
      "2.0     6\n",
      "3.0    23\n",
      "5.0    46\n",
      "4.0    77\n",
      "Name: score, dtype: int64\n",
      "freetime\n",
      "1.0    12\n",
      "5.0    18\n",
      "2.0    26\n",
      "4.0    64\n",
      "3.0    99\n",
      "Name: score, dtype: int64\n",
      "freetime\n",
      "1.0     3\n",
      "5.0    19\n",
      "2.0    31\n",
      "4.0    46\n",
      "3.0    58\n",
      "Name: score, dtype: int64\n",
      "goout\n",
      "1.0    14\n",
      "5.0    36\n",
      "2.0    46\n",
      "4.0    52\n",
      "3.0    71\n",
      "Name: score, dtype: int64\n",
      "goout\n",
      "1.0     7\n",
      "5.0    14\n",
      "4.0    27\n",
      "2.0    49\n",
      "3.0    60\n",
      "Name: score, dtype: int64\n",
      "health\n",
      "1.0    19\n",
      "2.0    22\n",
      "4.0    39\n",
      "3.0    55\n",
      "5.0    84\n",
      "Name: score, dtype: int64\n",
      "health\n",
      "2.0    18\n",
      "4.0    21\n",
      "1.0    25\n",
      "3.0    30\n",
      "5.0    63\n",
      "Name: score, dtype: int64\n"
     ]
    }
   ],
   "source": [
    "for col in stud_math:\n",
    "    if col not in ['score', 'address', 'sex', 'Mjob', 'paid', 'higher', 'romantic', 'absences']:\n",
    "        print(stud_math[stud_math.score < 60.0].groupby(\n",
    "            [col])['score'].count().sort_values().head(7))\n",
    "        print(stud_math[stud_math.score >= 60.0].groupby(\n",
    "            [col])['score'].count().sort_values().head(7))"
   ]
  },
  {
   "cell_type": "markdown",
   "metadata": {},
   "source": [
    "'school' - распределение пропорциональное. Убрать колонку.\n",
    "'age' - С 16 до 18 лет - в гуппе риска.\n",
    "'famsize'- распределение пропорциональное. Убрать колонку.\n",
    "'Pstatus'- распределение пропорциональное. Убрать колонку.\n",
    "'Fedu' и 'Medu' - низкое образование - в группе риска.\n",
    "'Fjob'- Признак с высоким значением \"прочее\", не информативен. Убрать колонку.\n",
    "'reason'- course и home - в гуппе риска.\n",
    "'guardian'- распределение пропорциональное. Убрать колонку.\n",
    "'traveltime'- Чем дальше от школы, тем больше вероятность попадания в гуппу риска. Влияние высокое.\n",
    "'studytime'- Чем меньше времени на учебу, тем больше вероятность попадания в гуппу риска. Влияние высокое.\n",
    "'failures'- большое количество неудач - в гуппе риска.\n",
    "'schoolsup'-  доп. поддержка - в гуппе риска.\n",
    "'famsup'- распределение пропорциональное. Убрать колонку.\n",
    "'activities'- распределение пропорциональное. Убрать колонку.\n",
    "'nursery'- распределение пропорциональное. Убрать колонку.\n",
    "'studytime_granular'- -6 - в гуппе риска.\n",
    "'internet'- распределение пропорциональное. Убрать колонку.\n",
    "'famrel'- распределение пропорциональное. Убрать колонку.\n",
    "'freetime'- Большое свободное время- в гуппе риска.\n",
    "'goout'- Большое свободного времени с друзьями - в гуппе риска. \n",
    "'health'- Хорошее здоровье - в гуппе риска. "
   ]
  },
  {
   "cell_type": "code",
   "execution_count": 41,
   "metadata": {},
   "outputs": [],
   "source": [
    "stud_math.drop(['school', 'famsize', 'Pstatus', 'Fjob', 'guardian', 'famsup', 'activities',\n",
    "                'nursery', 'internet', 'famrel', 'health'], axis='columns', inplace=True)"
   ]
  },
  {
   "cell_type": "markdown",
   "metadata": {},
   "source": [
    "Анализируем колонку 'absences' :"
   ]
  },
  {
   "cell_type": "code",
   "execution_count": 42,
   "metadata": {},
   "outputs": [
    {
     "data": {
      "text/plain": [
       "650.0"
      ]
     },
     "execution_count": 42,
     "metadata": {},
     "output_type": "execute_result"
    }
   ],
   "source": [
    "stud_math[stud_math.score >= 60.0]['absences'].sum()"
   ]
  },
  {
   "cell_type": "code",
   "execution_count": 43,
   "metadata": {},
   "outputs": [
    {
     "data": {
      "text/plain": [
       "1017.0"
      ]
     },
     "execution_count": 43,
     "metadata": {},
     "output_type": "execute_result"
    }
   ],
   "source": [
    "stud_math[stud_math.score < 60.0]['absences'].sum()"
   ]
  },
  {
   "cell_type": "markdown",
   "metadata": {},
   "source": [
    "'absences'- Большие пропуски занятий - в гуппе риска. Влияние высокое."
   ]
  },
  {
   "cell_type": "markdown",
   "metadata": {},
   "source": [
    "Остались колонки:"
   ]
  },
  {
   "cell_type": "code",
   "execution_count": 44,
   "metadata": {
    "scrolled": true
   },
   "outputs": [
    {
     "data": {
      "text/plain": [
       "Index(['sex', 'age', 'address', 'Medu', 'Fedu', 'reason', 'traveltime',\n",
       "       'studytime', 'failures', 'schoolsup', 'paid', 'studytime_granular',\n",
       "       'higher', 'freetime', 'goout', 'absences', 'score'],\n",
       "      dtype='object')"
      ]
     },
     "execution_count": 44,
     "metadata": {},
     "output_type": "execute_result"
    }
   ],
   "source": [
    "stud_math.columns"
   ]
  },
  {
   "cell_type": "markdown",
   "metadata": {},
   "source": [
    "### Выводы.\n",
    "\n",
    "В результате EDA для анализа влияния условий жизни учащегося на успеваемость по математике были получены следующие выводы:\n",
    "\n",
    "1.В данных присутствует мало пустых значений.\n",
    "2.Выбросы найдены только в столбцах famrel и abcences, что позволяет сделать вывод о том, что данные достаточно чистые.\n",
    "3.Самые важные параметры, которые предлагается использовать в дальнейшем для построения модели, это - 'sex', 'age', 'address',  'Medu', 'Fedu', 'reason', 'traveltime','studytime', 'failures', 'schoolsup', 'paid', 'studytime_granular',\n",
    "'higher', 'freetime', 'goout', 'absences', 'score'.\n",
    "\n",
    "### Саморефлексия\n",
    "1. Работой не довольна. Слабая.\n",
    "2. Не совсем поняла применение графиков. Надо помедитировать\n",
    "3. Очень интересная тема. Планирую перечитать материал и посмотреть доп. материалы.\n",
    "4. Спасибо, что подождали."
   ]
  }
 ],
 "metadata": {
  "kernelspec": {
   "display_name": "Python 3",
   "language": "python",
   "name": "python3"
  },
  "language_info": {
   "codemirror_mode": {
    "name": "ipython",
    "version": 3
   },
   "file_extension": ".py",
   "mimetype": "text/x-python",
   "name": "python",
   "nbconvert_exporter": "python",
   "pygments_lexer": "ipython3",
   "version": "3.7.4"
  }
 },
 "nbformat": 4,
 "nbformat_minor": 2
}
